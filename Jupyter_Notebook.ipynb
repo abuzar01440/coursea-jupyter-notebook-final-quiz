{
 "cells": [
  {
   "cell_type": "markdown",
   "metadata": {},
   "source": [
    "<center>\n",
    "    <img src=\"https://s3-api.us-geo.objectstorage.softlayer.net/cf-courses-data/CognitiveClass/Logos/organization_logo/organization_logo.png\" width=\"300\" alt=\"cognitiveclass.ai logo\"  />\n",
    "</center>\n"
   ]
  },
  {
   "cell_type": "markdown",
   "metadata": {},
   "source": [
    "#### Add your code below following the instructions given in the course\n"
   ]
  },
  {
   "cell_type": "markdown",
   "metadata": {},
   "source": [
    "# My Jupyter Notebook on IBM Watson Studio"
   ]
  },
  {
   "cell_type": "markdown",
   "metadata": {},
   "source": [
    "My name is **Abuzar Shahd**. I am Physicist and now I am also becoming data scienece. I've plans to move in my life as a data scientist "
   ]
  },
  {
   "cell_type": "markdown",
   "metadata": {},
   "source": [
    "*I am interested in data science because I love to collect and analyze the data like Data Mining*"
   ]
  },
  {
   "cell_type": "markdown",
   "metadata": {},
   "source": [
    "### In the below cell, I'll use code to separate positive & Negative Numbers from list"
   ]
  },
  {
   "cell_type": "code",
   "execution_count": 3,
   "metadata": {},
   "outputs": [
    {
     "name": "stdout",
     "output_type": "stream",
     "text": [
      "[20, 50, 70, 100, 50] [-200, -99]\n"
     ]
    }
   ],
   "source": [
    "cf=[-200,-99,20,50,70,100,50]\n",
    "cf_posit=[]\n",
    "cf_neg=[]\n",
    "for i in cf:\n",
    "    if i>0:\n",
    "        cf_posit.append(i)\n",
    "    elif i<0:\n",
    "        cf_neg.append(i)\n",
    "    pass\n",
    "print(cf_posit,cf_neg)"
   ]
  },
  {
   "attachments": {
    "data%20scienece.jpg": {
     "image/jpeg": "[encoded data removed]"
    }
   },
   "cell_type": "markdown",
   "metadata": {},
   "source": [
    "\n",
    "I love You my beautiful jan. best Of luck\n",
    "\n",
    "\n",
    "----\n",
    "\n",
    "\n",
    "\n",
    "\n",
    "\n",
    "**Number and Bullets:**\n",
    "\n",
    "There are following skills must exist in data scientists:\n",
    "-    Storyteller\n",
    "-    Critical Thinking\n",
    "-    Mathematics and statistics \n",
    "-    How to use tools\n",
    "-    Python or R\n",
    "-    Data Mining\n",
    "-    Statistical analysis and computing (SPSS)\n",
    "-    Data Visualizatiom \n",
    "-     Machine learning and Deep learnin\n",
    "-    Data cleaning with python or R\n",
    "-    Cloud Computing \n",
    "-    Microsoft Excel\n",
    "\n",
    "1.    Storyteller\n",
    "2.    Critical Thinking\n",
    "3.    Mathematics and statistics \n",
    "4.    How to use tools\n",
    "5.    Python or R\n",
    "6.    Data Mining\n",
    "7.    Statistical analysis and computing (SPSS)\n",
    "8.    Data Visualizatiom \n",
    "9.    Machine learning and Deep learnin\n",
    "10.   Data cleaning with python or R\n",
    "11.   Cloud Computing \n",
    "12.   Microsoft Excel\n",
    "\n",
    "\n",
    "\n",
    "\n",
    "**Table**\n",
    "\n",
    "\n",
    "|Months  |Cashflow|\n",
    "|--------|--------|\n",
    "|January | 1200  |\n",
    "|February| 1209  |\n",
    "|March   | 1250  |\n",
    "|April   | 1300  |\n",
    "|May     | 1167  |\n",
    "|June    | 1287  |\n",
    "|July    | 1000  |\n",
    "|August  | 1599  |\n",
    "\n",
    "\n",
    "**Links**\n",
    "\n",
    "[its a link of instagram](https://www.instagram.com/itxbhutta.01/)\n",
    "\n",
    "[Data Analyst vs. Data Scientist: Career Choices Clarified](https://idreamcareer.com/blog/data-analyst-vs-data-scientist/)\n",
    "\n",
    "\n",
    "\n",
    "**Images**\n",
    "\n",
    "![alt text][image]\n",
    "\n",
    "[image]: https://ilarge.lisimg.com/image/21532381/740full-liza-soberano.jpg \"Liza Soberano\"\n",
    "\n",
    "\n",
    "![data%20scienece.jpg](attachment:data%20scienece.jpg)\n",
    "\n",
    "\n",
    "\n",
    "\n",
    "**Blocked quotes**\n",
    "\n",
    "My name is Abuzar Shahid\n",
    "> I am currently study how to use tool in a data science. I am very grateful to coursea. because Coursea grant me financial aid\n",
    "\n",
    "\n",
    "**Strikethrough**\n",
    "\n",
    "The is ~~digital electronics~~"
   ]
  },
  {
   "cell_type": "code",
   "execution_count": null,
   "metadata": {},
   "outputs": [],
   "source": []
  }
 ],
 "metadata": {
  "kernelspec": {
   "display_name": "Python 3 (ipykernel)",
   "language": "python",
   "name": "python3"
  },
  "language_info": {
   "codemirror_mode": {
    "name": "ipython",
    "version": 3
   },
   "file_extension": ".py",
   "mimetype": "text/x-python",
   "name": "python",
   "nbconvert_exporter": "python",
   "pygments_lexer": "ipython3",
   "version": "3.9.12"
  }
 },
 "nbformat": 4,
 "nbformat_minor": 4
}
